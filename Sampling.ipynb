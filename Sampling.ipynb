{
 "cells": [
  {
   "cell_type": "code",
   "execution_count": 1,
   "id": "2590d399-4bbf-4668-b57b-2274d61b4981",
   "metadata": {},
   "outputs": [
    {
     "data": {
      "text/html": [
       "<div>\n",
       "<style scoped>\n",
       "    .dataframe tbody tr th:only-of-type {\n",
       "        vertical-align: middle;\n",
       "    }\n",
       "\n",
       "    .dataframe tbody tr th {\n",
       "        vertical-align: top;\n",
       "    }\n",
       "\n",
       "    .dataframe thead th {\n",
       "        text-align: right;\n",
       "    }\n",
       "</style>\n",
       "<table border=\"1\" class=\"dataframe\">\n",
       "  <thead>\n",
       "    <tr style=\"text-align: right;\">\n",
       "      <th></th>\n",
       "      <th>Time</th>\n",
       "      <th>V1</th>\n",
       "      <th>V2</th>\n",
       "      <th>V3</th>\n",
       "      <th>V4</th>\n",
       "      <th>V5</th>\n",
       "      <th>V6</th>\n",
       "      <th>V7</th>\n",
       "      <th>V8</th>\n",
       "      <th>V9</th>\n",
       "      <th>...</th>\n",
       "      <th>V21</th>\n",
       "      <th>V22</th>\n",
       "      <th>V23</th>\n",
       "      <th>V24</th>\n",
       "      <th>V25</th>\n",
       "      <th>V26</th>\n",
       "      <th>V27</th>\n",
       "      <th>V28</th>\n",
       "      <th>Amount</th>\n",
       "      <th>Class</th>\n",
       "    </tr>\n",
       "  </thead>\n",
       "  <tbody>\n",
       "    <tr>\n",
       "      <th>0</th>\n",
       "      <td>0</td>\n",
       "      <td>-1.359807</td>\n",
       "      <td>-0.072781</td>\n",
       "      <td>2.536347</td>\n",
       "      <td>1.378155</td>\n",
       "      <td>-0.338321</td>\n",
       "      <td>0.462388</td>\n",
       "      <td>0.239599</td>\n",
       "      <td>0.098698</td>\n",
       "      <td>0.363787</td>\n",
       "      <td>...</td>\n",
       "      <td>-0.018307</td>\n",
       "      <td>0.277838</td>\n",
       "      <td>-0.110474</td>\n",
       "      <td>0.066928</td>\n",
       "      <td>0.128539</td>\n",
       "      <td>-0.189115</td>\n",
       "      <td>0.133558</td>\n",
       "      <td>-0.021053</td>\n",
       "      <td>149.62</td>\n",
       "      <td>0</td>\n",
       "    </tr>\n",
       "    <tr>\n",
       "      <th>1</th>\n",
       "      <td>0</td>\n",
       "      <td>1.191857</td>\n",
       "      <td>0.266151</td>\n",
       "      <td>0.166480</td>\n",
       "      <td>0.448154</td>\n",
       "      <td>0.060018</td>\n",
       "      <td>-0.082361</td>\n",
       "      <td>-0.078803</td>\n",
       "      <td>0.085102</td>\n",
       "      <td>-0.255425</td>\n",
       "      <td>...</td>\n",
       "      <td>-0.225775</td>\n",
       "      <td>-0.638672</td>\n",
       "      <td>0.101288</td>\n",
       "      <td>-0.339846</td>\n",
       "      <td>0.167170</td>\n",
       "      <td>0.125895</td>\n",
       "      <td>-0.008983</td>\n",
       "      <td>0.014724</td>\n",
       "      <td>2.69</td>\n",
       "      <td>1</td>\n",
       "    </tr>\n",
       "    <tr>\n",
       "      <th>2</th>\n",
       "      <td>1</td>\n",
       "      <td>-1.358354</td>\n",
       "      <td>-1.340163</td>\n",
       "      <td>1.773209</td>\n",
       "      <td>0.379780</td>\n",
       "      <td>-0.503198</td>\n",
       "      <td>1.800499</td>\n",
       "      <td>0.791461</td>\n",
       "      <td>0.247676</td>\n",
       "      <td>-1.514654</td>\n",
       "      <td>...</td>\n",
       "      <td>0.247998</td>\n",
       "      <td>0.771679</td>\n",
       "      <td>0.909412</td>\n",
       "      <td>-0.689281</td>\n",
       "      <td>-0.327642</td>\n",
       "      <td>-0.139097</td>\n",
       "      <td>-0.055353</td>\n",
       "      <td>-0.059752</td>\n",
       "      <td>378.66</td>\n",
       "      <td>0</td>\n",
       "    </tr>\n",
       "    <tr>\n",
       "      <th>3</th>\n",
       "      <td>1</td>\n",
       "      <td>-0.966272</td>\n",
       "      <td>-0.185226</td>\n",
       "      <td>1.792993</td>\n",
       "      <td>-0.863291</td>\n",
       "      <td>-0.010309</td>\n",
       "      <td>1.247203</td>\n",
       "      <td>0.237609</td>\n",
       "      <td>0.377436</td>\n",
       "      <td>-1.387024</td>\n",
       "      <td>...</td>\n",
       "      <td>-0.108300</td>\n",
       "      <td>0.005274</td>\n",
       "      <td>-0.190321</td>\n",
       "      <td>-1.175575</td>\n",
       "      <td>0.647376</td>\n",
       "      <td>-0.221929</td>\n",
       "      <td>0.062723</td>\n",
       "      <td>0.061458</td>\n",
       "      <td>123.50</td>\n",
       "      <td>0</td>\n",
       "    </tr>\n",
       "    <tr>\n",
       "      <th>4</th>\n",
       "      <td>2</td>\n",
       "      <td>-1.158233</td>\n",
       "      <td>0.877737</td>\n",
       "      <td>1.548718</td>\n",
       "      <td>0.403034</td>\n",
       "      <td>-0.407193</td>\n",
       "      <td>0.095921</td>\n",
       "      <td>0.592941</td>\n",
       "      <td>-0.270533</td>\n",
       "      <td>0.817739</td>\n",
       "      <td>...</td>\n",
       "      <td>-0.009431</td>\n",
       "      <td>0.798278</td>\n",
       "      <td>-0.137458</td>\n",
       "      <td>0.141267</td>\n",
       "      <td>-0.206010</td>\n",
       "      <td>0.502292</td>\n",
       "      <td>0.219422</td>\n",
       "      <td>0.215153</td>\n",
       "      <td>69.99</td>\n",
       "      <td>0</td>\n",
       "    </tr>\n",
       "  </tbody>\n",
       "</table>\n",
       "<p>5 rows × 31 columns</p>\n",
       "</div>"
      ],
      "text/plain": [
       "   Time        V1        V2        V3        V4        V5        V6        V7  \\\n",
       "0     0 -1.359807 -0.072781  2.536347  1.378155 -0.338321  0.462388  0.239599   \n",
       "1     0  1.191857  0.266151  0.166480  0.448154  0.060018 -0.082361 -0.078803   \n",
       "2     1 -1.358354 -1.340163  1.773209  0.379780 -0.503198  1.800499  0.791461   \n",
       "3     1 -0.966272 -0.185226  1.792993 -0.863291 -0.010309  1.247203  0.237609   \n",
       "4     2 -1.158233  0.877737  1.548718  0.403034 -0.407193  0.095921  0.592941   \n",
       "\n",
       "         V8        V9  ...       V21       V22       V23       V24       V25  \\\n",
       "0  0.098698  0.363787  ... -0.018307  0.277838 -0.110474  0.066928  0.128539   \n",
       "1  0.085102 -0.255425  ... -0.225775 -0.638672  0.101288 -0.339846  0.167170   \n",
       "2  0.247676 -1.514654  ...  0.247998  0.771679  0.909412 -0.689281 -0.327642   \n",
       "3  0.377436 -1.387024  ... -0.108300  0.005274 -0.190321 -1.175575  0.647376   \n",
       "4 -0.270533  0.817739  ... -0.009431  0.798278 -0.137458  0.141267 -0.206010   \n",
       "\n",
       "        V26       V27       V28  Amount  Class  \n",
       "0 -0.189115  0.133558 -0.021053  149.62      0  \n",
       "1  0.125895 -0.008983  0.014724    2.69      1  \n",
       "2 -0.139097 -0.055353 -0.059752  378.66      0  \n",
       "3 -0.221929  0.062723  0.061458  123.50      0  \n",
       "4  0.502292  0.219422  0.215153   69.99      0  \n",
       "\n",
       "[5 rows x 31 columns]"
      ]
     },
     "execution_count": 1,
     "metadata": {},
     "output_type": "execute_result"
    }
   ],
   "source": [
    "import pandas as pd\n",
    "import numpy as np\n",
    "\n",
    "data = pd.read_csv(\"Creditcard_data.csv\")\n",
    "\n",
    "data.head()"
   ]
  },
  {
   "cell_type": "code",
   "execution_count": 2,
   "id": "76ad2de7-c8bc-43a3-8fe1-1e844dce4bcd",
   "metadata": {},
   "outputs": [
    {
     "name": "stdout",
     "output_type": "stream",
     "text": [
      "class 0: (763, 31)\n",
      "class 1: (9, 31)\n"
     ]
    }
   ],
   "source": [
    "#class count\n",
    "\n",
    "class_0_count, class_1_count = data['Class'].value_counts()\n",
    "\n",
    "class_1_count\n",
    "\n",
    "\n",
    "class_0 = data[data['Class']==0]\n",
    "class_1 = data[data['Class']==1]\n",
    "\n",
    "\n",
    "print('class 0:', class_0.shape)\n",
    "print('class 1:', class_1.shape)\n"
   ]
  },
  {
   "cell_type": "code",
   "execution_count": 3,
   "id": "6d1da9bc-8ee5-47e3-946e-412a46790220",
   "metadata": {},
   "outputs": [
    {
     "name": "stdout",
     "output_type": "stream",
     "text": [
      "total class of 1 and0: Class\n",
      "0    9\n",
      "1    9\n",
      "Name: count, dtype: int64\n"
     ]
    },
    {
     "data": {
      "text/plain": [
       "<Axes: title={'center': 'count (target)'}, xlabel='Class'>"
      ]
     },
     "execution_count": 3,
     "metadata": {},
     "output_type": "execute_result"
    },
    {
     "data": {
      "image/png": "[encoded data removed]",
      "text/plain": [
       "<Figure size 640x480 with 1 Axes>"
      ]
     },
     "metadata": {},
     "output_type": "display_data"
    }
   ],
   "source": [
    "#undersampling\n",
    "\n",
    "class_0_under = class_0.sample(class_1_count)\n",
    "\n",
    "test_under = pd.concat([class_0_under, class_1], axis=0)\n",
    "\n",
    "print(\"total class of 1 and0:\",test_under['Class'].value_counts())# plot the count after under-sampeling\n",
    "test_under['Class'].value_counts().plot(kind='bar', title='count (target)')\n"
   ]
  },
  {
   "cell_type": "code",
   "execution_count": 4,
   "id": "9027a4c0-f2aa-4fe0-b3ba-f55afc8ce912",
   "metadata": {},
   "outputs": [
    {
     "name": "stdout",
     "output_type": "stream",
     "text": [
      "total class of 1 and 0: Class\n",
      "0    9\n",
      "1    9\n",
      "Name: count, dtype: int64\n"
     ]
    },
    {
     "data": {
      "text/plain": [
       "<Axes: title={'center': 'count (target)'}, xlabel='Class'>"
      ]
     },
     "execution_count": 4,
     "metadata": {},
     "output_type": "execute_result"
    },
    {
     "data": {
      "image/png": "[encoded data removed]",
      "text/plain": [
       "<Figure size 640x480 with 1 Axes>"
      ]
     },
     "metadata": {},
     "output_type": "display_data"
    }
   ],
   "source": [
    "#over-sampling\n",
    "\n",
    "class_1_over = class_1.sample(class_0_count, replace=True)\n",
    "\n",
    "test_over = pd.concat([class_1_over, class_0], axis=0)\n",
    "\n",
    "print(\"total class of 1 and 0:\",test_under['Class'].value_counts())# plot the count after under-sampeling\n",
    "test_over['Class'].value_counts().plot(kind='bar', title='count (target)')\n"
   ]
  },
  {
   "cell_type": "code",
   "execution_count": 8,
   "id": "56f50d30-4285-4c4b-9044-84123c52f0b2",
   "metadata": {},
   "outputs": [],
   "source": [
    "import imblearn\n",
    "\n",
    "x = data.drop(columns=[\"Class\"])  # Drop the target column to get the features\n",
    "y = data[\"Class\"] "
   ]
  },
  {
   "cell_type": "code",
   "execution_count": 12,
   "id": "199c9dac-4f5e-45ef-89f7-1e567870d08f",
   "metadata": {},
   "outputs": [
    {
     "name": "stdout",
     "output_type": "stream",
     "text": [
      "original dataset shape: Counter({0: 763, 1: 9})\n",
      "Resample dataset shape Counter({0: 9, 1: 9})\n"
     ]
    }
   ],
   "source": [
    "# import library\n",
    "from imblearn.under_sampling import RandomUnderSampler\n",
    "from collections import Counter\n",
    "rus = RandomUnderSampler(random_state=42, replacement=True)# fit predictor and target variable\n",
    "x_rus, y_rus = rus.fit_resample(x, y)\n",
    "\n",
    "print('original dataset shape:', Counter(y))\n",
    "print('Resample dataset shape', Counter(y_rus))"
   ]
  },
  {
   "cell_type": "code",
   "execution_count": null,
   "id": "f079b569-0f2a-4c80-9ca9-8cbeac8aa17e",
   "metadata": {},
   "outputs": [],
   "source": [
    "# import library\n",
    "from imblearn.over_sampling import RandomOverSampler\n",
    "\n",
    "ros = RandomOverSampler(random_state=42)\n",
    "\n",
    "# fit predictor and target variablex_ros, y_ros = ros.fit_resample(x, y)\n",
    "\n",
    "print('Original dataset shape', Counter(y))\n",
    "print('Resample dataset shape', Counter(y_ros))"
   ]
  },
  {
   "cell_type": "code",
   "execution_count": null,
   "id": "6601f28c-759a-4d32-936f-b764406ff697",
   "metadata": {},
   "outputs": [],
   "source": [
    "#tomek links\n",
    "# import library\n",
    "\n",
    "from imblearn.under_sampling import TomekLinks\n",
    "\n",
    "tl = RandomOverSampler(sampling_strategy='majority')\n",
    "\n",
    "# fit predictor and target variable\n",
    "x_tl, y_tl = ros.fit_resample(x, y)\n",
    "\n",
    "print('Original dataset shape', Counter(y))\n",
    "print('Resample dataset shape', Counter(y_ros))"
   ]
  },
  {
   "cell_type": "code",
   "execution_count": 13,
   "id": "9cb3a46d-2f01-45c1-aeb6-dc94f685021c",
   "metadata": {},
   "outputs": [],
   "source": [
    "#smote\n",
    "\n",
    "#synthetic minority oversampling technique\n",
    "\n"
   ]
  },
  {
   "cell_type": "code",
   "execution_count": 14,
   "id": "abd22e67-654a-4df1-ab5a-bbdaa6c90320",
   "metadata": {},
   "outputs": [],
   "source": [
    "import pandas as pd\n",
    "import numpy as np\n",
    "from sklearn.model_selection import train_test_split\n",
    "from sklearn.metrics import accuracy_score\n",
    "from imblearn.over_sampling import RandomOverSampler\n",
    "from sklearn.linear_model import LogisticRegression\n",
    "from sklearn.tree import DecisionTreeClassifier\n",
    "from sklearn.ensemble import RandomForestClassifier\n",
    "from sklearn.svm import SVC\n",
    "from sklearn.neighbors import KNeighborsClassifier\n",
    "import matplotlib.pyplot as plt"
   ]
  },
  {
   "cell_type": "code",
   "execution_count": 21,
   "id": "7aac367b-dbf2-4fc6-a0ee-981d00623b46",
   "metadata": {},
   "outputs": [
    {
     "name": "stdout",
     "output_type": "stream",
     "text": [
      "Class\n",
      "0    763\n",
      "1    763\n",
      "Name: count, dtype: int64\n"
     ]
    }
   ],
   "source": [
    "import pandas as pd\n",
    "from sklearn.utils import resample\n",
    "\n",
    "\n",
    "df = pd.read_csv(\"Creditcard_data.csv\")\n",
    "\n",
    "class_0_count = data[data['Class'] == 0]\n",
    "class_1_count = data[data['Class'] == 1]\n",
    "\n",
    "balanced_minority = resample(class_1_count,\n",
    "                             replace=True,\n",
    "                             n_samples=len(class_0_count),\n",
    "                             random_state=42)\n",
    "\n",
    "balanced_df = pd.concat([class_0_count, balanced_minority])\n",
    "\n",
    "print(balanced_df['Class'].value_counts())"
   ]
  },
  {
   "cell_type": "markdown",
   "id": "6bd122b7-de8d-467c-8569-0059e0c71aaf",
   "metadata": {},
   "source": [
    "# Simple Random Sampling"
   ]
  },
  {
   "cell_type": "code",
   "execution_count": 24,
   "id": "1e40f3f2-7d97-4cf4-8387-7cdde629ac5c",
   "metadata": {},
   "outputs": [],
   "source": [
    "simple_random_sample = balanced_df.sample(n=500, random_state=42)"
   ]
  },
  {
   "cell_type": "markdown",
   "id": "0b4a4e86-ba02-4839-9ccf-fc909398d187",
   "metadata": {},
   "source": [
    "# Stratified Sampling"
   ]
  },
  {
   "cell_type": "code",
   "execution_count": 25,
   "id": "c9d7752c-3189-42b3-9364-963556d2eee8",
   "metadata": {},
   "outputs": [],
   "source": [
    "from sklearn.model_selection import train_test_split\n",
    "\n",
    "_, stratified_sample = train_test_split(balanced_df,\n",
    "                                        test_size=500/len(balanced_df),\n",
    "                                        stratify=balanced_df['Class'],\n",
    "                                        random_state=42)"
   ]
  },
  {
   "cell_type": "markdown",
   "id": "f1953fbd-5c1c-4a40-9927-c1308dda944f",
   "metadata": {},
   "source": [
    "# Systematic Sampling"
   ]
  },
  {
   "cell_type": "code",
   "execution_count": 27,
   "id": "3c9373eb-e576-4764-88a5-594d67c2ef2f",
   "metadata": {},
   "outputs": [],
   "source": [
    "import numpy as np\n",
    "\n",
    "step = len(balanced_df) // 500\n",
    "systematic_sample = balanced_df.iloc[::step, :]\n"
   ]
  },
  {
   "cell_type": "markdown",
   "id": "f650f057-fc4f-4443-b26a-08004b331fe0",
   "metadata": {},
   "source": [
    "# Cluster Sampling"
   ]
  },
  {
   "cell_type": "code",
   "execution_count": 28,
   "id": "a6d27130-89e2-4922-ae82-b2900670317e",
   "metadata": {},
   "outputs": [
    {
     "name": "stdout",
     "output_type": "stream",
     "text": [
      "Cluster\n",
      "0    560\n",
      "1     99\n",
      "2     51\n",
      "3     34\n",
      "4     23\n",
      "Name: count, dtype: int64\n",
      "Cluster\n",
      "0    163\n",
      "3    162\n",
      "4    160\n",
      "1    146\n",
      "2    141\n",
      "Name: count, dtype: int64\n",
      "   Time        V1        V2        V3        V4        V5        V6        V7  \\\n",
      "0     0 -1.359807 -0.072781  2.536347  1.378155 -0.338321  0.462388  0.239599   \n",
      "2     1 -1.358354 -1.340163  1.773209  0.379780 -0.503198  1.800499  0.791461   \n",
      "6     4  1.229658  0.141004  0.045371  1.202613  0.191881  0.272708 -0.005159   \n",
      "7     7 -0.644269  1.417964  1.074380 -0.492199  0.948934  0.428118  1.120631   \n",
      "8     7 -0.894286  0.286157 -0.113192 -0.271526  2.669599  3.721818  0.370145   \n",
      "\n",
      "         V8        V9  ...       V22       V23       V24       V25       V26  \\\n",
      "0  0.098698  0.363787  ...  0.277838 -0.110474  0.066928  0.128539 -0.189115   \n",
      "2  0.247676 -1.514654  ...  0.771679  0.909412 -0.689281 -0.327642 -0.139097   \n",
      "6  0.081213  0.464960  ... -0.270710 -0.154104 -0.780055  0.750137 -0.257237   \n",
      "7 -3.807864  0.615375  ... -1.015455  0.057504 -0.649709 -0.415267 -0.051634   \n",
      "8  0.851084 -0.392048  ... -0.268092 -0.204233  1.011592  0.373205 -0.384157   \n",
      "\n",
      "        V27       V28  Amount  Class  Cluster  \n",
      "0  0.133558 -0.021053  149.62      0        3  \n",
      "2 -0.055353 -0.059752  378.66      0        2  \n",
      "6  0.034507  0.005168    4.99      0        2  \n",
      "7 -1.206921 -1.085339   40.80      0        2  \n",
      "8  0.011747  0.142404   93.20      0        2  \n",
      "\n",
      "[5 rows x 32 columns]\n"
     ]
    }
   ],
   "source": [
    "import numpy as np\n",
    "\n",
    "\n",
    "bins = [0, 50, 100, 200, 500, np.inf]\n",
    "label = [0, 1, 2, 3, 4]\n",
    "df['Cluster'] = pd.cut(df['Amount'], bins=bins, labels=labels)\n",
    "print(df['Cluster'].value_counts())\n",
    "np.random.seed(42)\n",
    "df['Cluster'] = np.random.randint(0, 5, size=len(df))\n",
    "print(df['Cluster'].value_counts())\n",
    "selected_clusters = np.random.choice(df['Cluster'].unique(), size=2, replace=False)\n",
    "cluster_sample = df[df['Cluster'].isin(selected_clusters)]\n",
    "\n",
    "print(cluster_sample.head())"
   ]
  },
  {
   "cell_type": "markdown",
   "id": "17afae5f-b0fd-467d-8625-ca6aa189c468",
   "metadata": {},
   "source": [
    "# Bootstrap Sampling"
   ]
  },
  {
   "cell_type": "code",
   "execution_count": 29,
   "id": "9b941c33-42c4-4ba9-ad60-15f5d1d316a6",
   "metadata": {},
   "outputs": [],
   "source": [
    "bootstrap_sample = balanced_df.sample(n=500, replace=True, random_state=42)"
   ]
  },
  {
   "cell_type": "markdown",
   "id": "2b7cff51-d62c-4a6d-a929-38cf337cda96",
   "metadata": {},
   "source": [
    "# Evaluate Sampling Techniques on Diverse ML Models"
   ]
  },
  {
   "cell_type": "code",
   "execution_count": null,
   "id": "e308f714-267e-402e-9a2b-aa2cccc929fe",
   "metadata": {},
   "outputs": [],
   "source": [
    "from sklearn.linear_model import LogisticRegression\n",
    "from sklearn.tree import DecisionTreeClassifier\n",
    "from sklearn.ensemble import RandomForestClassifier\n",
    "from sklearn.neighbors import KNeighborsClassifier\n",
    "from sklearn.svm import SVC\n",
    "from sklearn.metrics import accuracy_score\n",
    "from sklearn.model_selection import train_test_split\n",
    "\n",
    "models = {\n",
    "    \"Logistic Regression\": LogisticRegression(max_iter=1000, random_state=42),\n",
    "    \"Decision Tree\": DecisionTreeClassifier(random_state=42),\n",
    "    \"Random Forest\": RandomForestClassifier(n_estimators=100, random_state=42),\n",
    "    \"K-Nearest Neighbors\": KNeighborsClassifier(n_neighbors=5),\n",
    "    \"Support Vector Machine\": SVC(kernel='rbf', random_state=42)\n",
    "}\n",
    "\n",
    "sampling_methods = {\n",
    "    \"Simple Random\": simple_random_sample,\n",
    "    \"Stratified\": stratified_sample,\n",
    "    \"Systematic\": systematic_sample,\n",
    "    \"Cluster\": cluster_sample,\n",
    "    \"Bootstrap\": bootstrap_sample\n",
    "}\n",
    "\n",
    "results = {}\n",
    "\n",
    "for sampling_name, sample in sampling_methods.items():\n",
    "    x = sample.drop(columns = ['Class'])\n",
    "    y = sample['Class']\n",
    "    x_train, x_test, y_train, y_test = train_test_split(x,y, test_size = 0.2, random_state = 42)\n",
    "    for model_name, model in models.items():\n",
    "        model.fit(x_train, y_train)\n",
    "        y_pred = model.predict(x_test)\n",
    "        acc = accuracy_score(y_test, y_pred)\n",
    "        results[(sampling_name, model_name)] = acc\n",
    "\n",
    "for (sampling, model), accuracy in results.items():\n",
    "    print(f\"Sampling: {sampling}, Model: {model}, Accuracy: {accuracy:.2f}\")\n",
    "\n"
   ]
  },
  {
   "cell_type": "markdown",
   "id": "9b9d1c1b-6e5c-4131-ba0e-8ec2d661f950",
   "metadata": {},
   "source": [
    "# undersampling"
   ]
  },
  {
   "cell_type": "code",
   "execution_count": 34,
   "id": "2fd62686-3ee2-4a2c-8554-112d392b356d",
   "metadata": {},
   "outputs": [
    {
     "name": "stdout",
     "output_type": "stream",
     "text": [
      "Class\n",
      "0    9\n",
      "1    9\n",
      "Name: count, dtype: int64\n"
     ]
    }
   ],
   "source": [
    "\n",
    "\n",
    "\n",
    "from sklearn.utils import resample\n",
    "\n",
    "undersampled_majority = resample(\n",
    "    class_0_count,\n",
    "    replace=False,\n",
    "    n_samples=len(class_1_count),\n",
    "    random_state=42\n",
    ")\n",
    "\n",
    "\n",
    "undersampled_df = pd.concat([undersampled_majority, class_1_count])\n",
    "\n",
    "print(undersampled_df['Class'].value_counts())"
   ]
  },
  {
   "cell_type": "code",
   "execution_count": 35,
   "id": "a8f8b8cf-4f20-4168-b999-b3ad56585dee",
   "metadata": {},
   "outputs": [
    {
     "name": "stdout",
     "output_type": "stream",
     "text": [
      "Error during stratified sampling: The train_size = 1 should be greater or equal to the number of classes = 2\n",
      "Stratified Sample Size: 501\n",
      "Systematic Sample Size: 18\n"
     ]
    }
   ],
   "source": [
    "# Simple Random Sampling\n",
    "\n",
    "sample_size = min(100, len(undersampled_df))\n",
    "simple_random_sample = undersampled_df.sample(n=sample_size, random_state=42)\n",
    "\n",
    "\n",
    "# Stratified Sampling\n",
    "from sklearn.model_selection import train_test_split\n",
    "\n",
    "dataset_size = len(undersampled_df)\n",
    "\n",
    "if dataset_size > 100:\n",
    "    test_size = 100 / dataset_size\n",
    "else:\n",
    "    test_size = max(1, dataset_size - 1)\n",
    "\n",
    "\n",
    "try:\n",
    "    _, stratified_sample = train_test_split(\n",
    "        undersampled_df,\n",
    "        test_size=test_size,\n",
    "        stratify=undersampled_df['Class'],\n",
    "        random_state=42\n",
    "    )\n",
    "    print(f\"Stratified Sample Size: {len(stratified_sample)}\")\n",
    "except ValueError as e:\n",
    "    print(f\"Error during stratified sampling: {e}\")\n",
    "\n",
    "print(f\"Stratified Sample Size: {len(stratified_sample)}\")\n",
    "dataset_size = len(undersampled_df)\n",
    "step = max(1, dataset_size // 100)\n",
    "\n",
    "\n",
    "try:\n",
    "    systematic_sample = undersampled_df.iloc[::step, :]\n",
    "    print(f\"Systematic Sample Size: {len(systematic_sample)}\")\n",
    "except Exception as e:\n",
    "    print(f\"Error during systematic sampling: {e}\")\n",
    "\n",
    "\n",
    "import numpy as np\n",
    "np.random.seed(42)\n",
    "undersampled_df['Cluster'] = np.random.randint(0, 5, size=len(undersampled_df))\n",
    "selected_clusters = np.random.choice(undersampled_df['Cluster'].unique(), size=2, replace=False)\n",
    "cluster_sample = undersampled_df[undersampled_df['Cluster'].isin(selected_clusters)]\n",
    "\n",
    "\n",
    "bootstrap_sample = undersampled_df.sample(n=100, replace=True, random_state=42)\n",
    "\n",
    "\n",
    "sampling_methods = {\n",
    "    \"Simple Random\": simple_random_sample,\n",
    "    \"Stratified\": stratified_sample,\n",
    "    \"Systematic\": systematic_sample,\n",
    "    \"Cluster\": cluster_sample,\n",
    "    \"Bootstrap\": bootstrap_sample\n",
    "}"
   ]
  },
  {
   "cell_type": "code",
   "execution_count": 36,
   "id": "c3373365-bd45-4cdd-8061-1962cf547ab1",
   "metadata": {},
   "outputs": [
    {
     "name": "stderr",
     "output_type": "stream",
     "text": [
      "C:\\Users\\India\\AppData\\Local\\Programs\\Python\\Python312\\Lib\\site-packages\\sklearn\\linear_model\\_logistic.py:469: ConvergenceWarning: lbfgs failed to converge (status=1):\n",
      "STOP: TOTAL NO. of ITERATIONS REACHED LIMIT.\n",
      "\n",
      "Increase the number of iterations (max_iter) or scale the data as shown in:\n",
      "    https://scikit-learn.org/stable/modules/preprocessing.html\n",
      "Please also refer to the documentation for alternative solver options:\n",
      "    https://scikit-learn.org/stable/modules/linear_model.html#logistic-regression\n",
      "  n_iter_i = _check_optimize_result(\n"
     ]
    }
   ],
   "source": [
    "sampling_methods = {\n",
    "    \"Simple Random\": simple_random_sample,\n",
    "    \"Stratified\": stratified_sample,\n",
    "    \"Systematic\": systematic_sample,\n",
    "    \"Cluster\": cluster_sample,\n",
    "    \"Bootstrap\": bootstrap_sample\n",
    "}\n",
    "from sklearn.linear_model import LogisticRegression\n",
    "from sklearn.tree import DecisionTreeClassifier\n",
    "from sklearn.ensemble import RandomForestClassifier\n",
    "from sklearn.neighbors import KNeighborsClassifier\n",
    "from sklearn.svm import SVC\n",
    "from sklearn.metrics import accuracy_score\n",
    "\n",
    "\n",
    "models = {\n",
    "    \"Logistic Regression\": LogisticRegression(max_iter=1000, random_state=42),\n",
    "    \"Decision Tree\": DecisionTreeClassifier(random_state=42),\n",
    "    \"Random Forest\": RandomForestClassifier(n_estimators=100, random_state=42),\n",
    "    \"K-Nearest Neighbors\": KNeighborsClassifier(n_neighbors=5),\n",
    "    \"Support Vector Machine\": SVC(kernel='rbf', random_state=42)\n",
    "}\n",
    "\n",
    "\n",
    "results = {}\n",
    "\n",
    "\n",
    "for sampling_name, sample in sampling_methods.items():\n",
    "    X = sample.drop(columns=['Class', 'Cluster'], errors='ignore')\n",
    "    y = sample['Class']\n",
    "\n",
    "    for model_name, model in models.items():\n",
    "        model.fit(X, y)\n",
    "        y_pred = model.predict(X)\n",
    "        acc = accuracy_score(y, y_pred)\n",
    "        results[(sampling_name, model_name)] = acc\n",
    "import pandas as pd\n",
    "from tabulate import tabulate\n",
    "\n",
    "results_df = pd.DataFrame(\n",
    "    [\n",
    "        {\"Sampling Method\": sampling, \"Model\": model, \"Accuracy\": accuracy}\n",
    "        for (sampling, model), accuracy in results.items()\n",
    "    ]\n",
    ")"
   ]
  },
  {
   "cell_type": "code",
   "execution_count": null,
   "id": "83b31515-f211-4f0d-b3ae-7a0953bfb9dc",
   "metadata": {},
   "outputs": [],
   "source": []
  }
 ],
 "metadata": {
  "kernelspec": {
   "display_name": "Python 3 (ipykernel)",
   "language": "python",
   "name": "python3"
  },
  "language_info": {
   "codemirror_mode": {
    "name": "ipython",
    "version": 3
   },
   "file_extension": ".py",
   "mimetype": "text/x-python",
   "name": "python",
   "nbconvert_exporter": "python",
   "pygments_lexer": "ipython3",
   "version": "3.12.1"
  }
 },
 "nbformat": 4,
 "nbformat_minor": 5
}
